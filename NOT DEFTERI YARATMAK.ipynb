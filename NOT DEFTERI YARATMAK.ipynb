{
 "cells": [
  {
   "cell_type": "code",
   "execution_count": 1,
   "metadata": {},
   "outputs": [],
   "source": [
    "dosya=open(\"deneme.txt\", \"w\")\n",
    "print(\"Ben deneme yaptım bakalım nasıl olacak\", file=dosya)\n",
    "dosya.close()"
   ]
  },
  {
   "cell_type": "code",
   "execution_count": null,
   "metadata": {},
   "outputs": [],
   "source": []
  },
  {
   "cell_type": "code",
   "execution_count": null,
   "metadata": {},
   "outputs": [],
   "source": []
  },
  {
   "cell_type": "code",
   "execution_count": null,
   "metadata": {},
   "outputs": [],
   "source": []
  },
  {
   "cell_type": "code",
   "execution_count": null,
   "metadata": {},
   "outputs": [],
   "source": []
  },
  {
   "cell_type": "code",
   "execution_count": 2,
   "metadata": {},
   "outputs": [
    {
     "data": {
      "text/plain": [
       "'C:\\\\Users\\\\Aytek\\\\Desktop\\\\PYTHON DERS'"
      ]
     },
     "execution_count": 2,
     "metadata": {},
     "output_type": "execute_result"
    }
   ],
   "source": [
    "import os\n",
    "os.getcwd()"
   ]
  },
  {
   "cell_type": "code",
   "execution_count": null,
   "metadata": {},
   "outputs": [],
   "source": []
  },
  {
   "cell_type": "code",
   "execution_count": null,
   "metadata": {},
   "outputs": [],
   "source": []
  },
  {
   "cell_type": "code",
   "execution_count": null,
   "metadata": {},
   "outputs": [],
   "source": []
  },
  {
   "cell_type": "code",
   "execution_count": null,
   "metadata": {},
   "outputs": [],
   "source": []
  },
  {
   "cell_type": "code",
   "execution_count": 3,
   "metadata": {},
   "outputs": [],
   "source": [
    "dosya=open(\"deneme.txt\", \"w\")\n",
    "print(\"Ben deneme yaptım bakayım nasıl olacak\", file=dosya)\n",
    "print(\"Şimdide yazıma devam ediyorum\", file=dosya)\n",
    "dosya.close()"
   ]
  },
  {
   "cell_type": "code",
   "execution_count": null,
   "metadata": {},
   "outputs": [],
   "source": []
  },
  {
   "cell_type": "code",
   "execution_count": null,
   "metadata": {},
   "outputs": [],
   "source": []
  },
  {
   "cell_type": "code",
   "execution_count": null,
   "metadata": {},
   "outputs": [],
   "source": []
  },
  {
   "cell_type": "code",
   "execution_count": null,
   "metadata": {},
   "outputs": [],
   "source": []
  },
  {
   "cell_type": "code",
   "execution_count": 6,
   "metadata": {},
   "outputs": [],
   "source": [
    "dosya=open(\"deneme.txt\", \"w\")\n",
    "print(\"ESKİ YAZDIKLARIMI SİLECEKMİ \", file=dosya)\n",
    "dosya.close()"
   ]
  },
  {
   "cell_type": "code",
   "execution_count": null,
   "metadata": {},
   "outputs": [],
   "source": []
  },
  {
   "cell_type": "code",
   "execution_count": null,
   "metadata": {},
   "outputs": [],
   "source": []
  },
  {
   "cell_type": "code",
   "execution_count": null,
   "metadata": {},
   "outputs": [],
   "source": []
  },
  {
   "cell_type": "code",
   "execution_count": null,
   "metadata": {},
   "outputs": [],
   "source": []
  },
  {
   "cell_type": "code",
   "execution_count": 12,
   "metadata": {},
   "outputs": [],
   "source": [
    "dosya=open(\"deneme.txt\", \"w\")\n",
    "print(\"\", file=dosya)\n",
    "dosya.close()"
   ]
  },
  {
   "cell_type": "code",
   "execution_count": null,
   "metadata": {},
   "outputs": [],
   "source": []
  },
  {
   "cell_type": "code",
   "execution_count": null,
   "metadata": {},
   "outputs": [],
   "source": []
  },
  {
   "cell_type": "code",
   "execution_count": null,
   "metadata": {},
   "outputs": [],
   "source": []
  },
  {
   "cell_type": "code",
   "execution_count": null,
   "metadata": {},
   "outputs": [],
   "source": []
  },
  {
   "cell_type": "code",
   "execution_count": 7,
   "metadata": {},
   "outputs": [
    {
     "name": "stdout",
     "output_type": "stream",
     "text": [
      "Not defterinin adı NOT 1\n",
      "iki katı alınacak sayı 46\n",
      "eklenecek sayı 73\n"
     ]
    }
   ],
   "source": [
    "dosadı=input(\"Not defterinin adı \")\n",
    "dosadı=dosadı + \".txt\"\n",
    "dosya=open(dosadı, \"a\")\n",
    "print(\"iki tane sayı girişi yapıyoruz\", file=dosya)\n",
    "print(\"ilk sayının 2 katı ile diğer sayıyı topluyoruz\", file=dosya)\n",
    "print(\"işlemin sonucunu yazdırıyoruz\", file=dosya)\n",
    "a=input(\"iki katı alınacak sayı \")\n",
    "a=int(a)\n",
    "b=input(\"eklenecek sayı \")\n",
    "b=int(b)\n",
    "print(\"1.sayı=\",a, file=dosya)\n",
    "print(\"2.sayı\",b, file=dosya)\n",
    "print(a,\"sayısının 2 katı ile\",b,\"sayısının toplamı\",2*a+b,\"sonucunu verir\",\n",
    "      file=dosya)\n",
    "dosya.close()"
   ]
  },
  {
   "cell_type": "code",
   "execution_count": null,
   "metadata": {},
   "outputs": [],
   "source": []
  },
  {
   "cell_type": "code",
   "execution_count": null,
   "metadata": {},
   "outputs": [],
   "source": []
  },
  {
   "cell_type": "code",
   "execution_count": null,
   "metadata": {},
   "outputs": [],
   "source": []
  },
  {
   "cell_type": "code",
   "execution_count": null,
   "metadata": {},
   "outputs": [],
   "source": []
  },
  {
   "cell_type": "code",
   "execution_count": 8,
   "metadata": {},
   "outputs": [],
   "source": [
    "dosya = open(\"deneme.txt\",\"w\")\n",
    "dosya.write(\"Merhaba Millet :)\")\n",
    "dosya.close()"
   ]
  },
  {
   "cell_type": "code",
   "execution_count": null,
   "metadata": {},
   "outputs": [],
   "source": []
  },
  {
   "cell_type": "code",
   "execution_count": null,
   "metadata": {},
   "outputs": [],
   "source": []
  },
  {
   "cell_type": "code",
   "execution_count": null,
   "metadata": {},
   "outputs": [],
   "source": []
  },
  {
   "cell_type": "code",
   "execution_count": null,
   "metadata": {},
   "outputs": [],
   "source": []
  },
  {
   "cell_type": "code",
   "execution_count": 14,
   "metadata": {},
   "outputs": [],
   "source": [
    "with open(\"deneme.txt\",\"a\") as dosya:\n",
    "    print(\"\", file=dosya)\n",
    "    print(\"----\", file=dosya)\n",
    "    dosya.write(\"Herkese Merhaba :)\\n\")\n",
    "    print(\"Bakalım şimdi nasıl olacak\", file=dosya)"
   ]
  },
  {
   "cell_type": "code",
   "execution_count": null,
   "metadata": {},
   "outputs": [],
   "source": []
  },
  {
   "cell_type": "code",
   "execution_count": null,
   "metadata": {},
   "outputs": [],
   "source": []
  },
  {
   "cell_type": "code",
   "execution_count": null,
   "metadata": {},
   "outputs": [],
   "source": []
  },
  {
   "cell_type": "code",
   "execution_count": null,
   "metadata": {},
   "outputs": [],
   "source": []
  },
  {
   "cell_type": "code",
   "execution_count": 17,
   "metadata": {},
   "outputs": [
    {
     "name": "stdout",
     "output_type": "stream",
     "text": [
      "\n",
      "\n",
      "----\n",
      "Herkese Merhaba :)\n",
      "Bakalım şimdi nasıl olacak\n",
      "\n",
      "----\n",
      "Herkese Merhaba :)\n",
      "Bakalım şimdi nasıl olacak\n",
      "\n"
     ]
    }
   ],
   "source": [
    "import os\n",
    " \n",
    "if os.path.isfile(\"deneme.txt\"):\n",
    "    with open(\"deneme.txt\",\"r\") as dosya:\n",
    "        print(dosya.read())\n",
    "else:\n",
    "    print(\"dosya bulunamadı\")\n"
   ]
  },
  {
   "cell_type": "code",
   "execution_count": null,
   "metadata": {},
   "outputs": [],
   "source": []
  },
  {
   "cell_type": "code",
   "execution_count": null,
   "metadata": {},
   "outputs": [],
   "source": []
  },
  {
   "cell_type": "code",
   "execution_count": null,
   "metadata": {},
   "outputs": [],
   "source": []
  },
  {
   "cell_type": "code",
   "execution_count": null,
   "metadata": {},
   "outputs": [],
   "source": []
  },
  {
   "cell_type": "code",
   "execution_count": 18,
   "metadata": {},
   "outputs": [
    {
     "name": "stdout",
     "output_type": "stream",
     "text": [
      "['\\n', '\\n', '----\\n', 'Herkese Merhaba :)\\n', 'Bakalım şimdi nasıl olacak\\n', '\\n', '----\\n', 'Herkese Merhaba :)\\n', 'Bakalım şimdi nasıl olacak\\n']\n"
     ]
    }
   ],
   "source": [
    "import os\n",
    " \n",
    "if os.path.isfile(\"abc.txt\"):\n",
    "    with open(\"deneme.txt\", \"r\") as dosya:\n",
    "        print(dosya.readlines())\n",
    "else:\n",
    "    print(\"dosya bulunamadı\")"
   ]
  },
  {
   "cell_type": "code",
   "execution_count": null,
   "metadata": {},
   "outputs": [],
   "source": []
  },
  {
   "cell_type": "code",
   "execution_count": null,
   "metadata": {},
   "outputs": [],
   "source": []
  },
  {
   "cell_type": "code",
   "execution_count": null,
   "metadata": {},
   "outputs": [],
   "source": []
  },
  {
   "cell_type": "code",
   "execution_count": null,
   "metadata": {},
   "outputs": [],
   "source": []
  },
  {
   "cell_type": "code",
   "execution_count": 22,
   "metadata": {},
   "outputs": [
    {
     "name": "stdout",
     "output_type": "stream",
     "text": [
      "\n",
      "\n",
      "\n",
      "\n",
      "----\n",
      "\n",
      "Herkese Merhaba :)\n",
      "\n"
     ]
    }
   ],
   "source": [
    "import os\n",
    " \n",
    "if os.path.isfile(\"deneme.txt\"):\n",
    "    with open(\"deneme.txt\", \"r\") as dosya:\n",
    "        print(dosya.readline())\n",
    "        print(dosya.readline())\n",
    "        print(dosya.readline())\n",
    "        print(dosya.readline())\n",
    "else:\n",
    "    print(\"dosya bulunamadı\")\n"
   ]
  },
  {
   "cell_type": "code",
   "execution_count": null,
   "metadata": {},
   "outputs": [],
   "source": []
  }
 ],
 "metadata": {
  "kernelspec": {
   "display_name": "Python 3",
   "language": "python",
   "name": "python3"
  },
  "language_info": {
   "codemirror_mode": {
    "name": "ipython",
    "version": 3
   },
   "file_extension": ".py",
   "mimetype": "text/x-python",
   "name": "python",
   "nbconvert_exporter": "python",
   "pygments_lexer": "ipython3",
   "version": "3.7.3"
  }
 },
 "nbformat": 4,
 "nbformat_minor": 2
}
